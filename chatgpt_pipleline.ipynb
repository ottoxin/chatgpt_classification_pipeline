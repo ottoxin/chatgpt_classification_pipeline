# Pipeline for labeling using ChatGPT

Very first step: Processing dataframe: Decide what columns to keep.

- Provide the DataFrame (do not include it in the function). Name the testing using the date format (MM/DD). Provide the directory for storing the data.
- Provide background knowledge for the system and prompt for the user.
- Record all responses and add each response to the "chatgpt_output" column for each data entry in the original DataFrame after the "TYPE" column.
- Save this DataFrame locally, naming it "MM/DD" + testing number (1 if only one testing is done) + "raw".
- Extract the number for each category and transpose each category to columns. Create the "chatgpt_label" column with the highest value among the categories. Then, create a "consistency" column (T/F) by comparing the values in the "TYPE" and "chatgpt_label" columns.
- Check for any missing values in the "chatgpt_label" column or any other transposed columns. Print the result.
- Save this processed DataFrame locally, naming it "MM/DD" + testing number (1 if only one testing is done) + "clean".
- Calculate the performance for each category and print it.
